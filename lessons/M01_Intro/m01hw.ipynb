{
 "cells": [
  {
   "cell_type": "markdown",
   "id": "1542c24b",
   "metadata": {},
   "source": [
    "# Ian Yung\n",
    "### *1.21.2024*\n",
    "### *m01hw.ipynb*"
   ]
  },
  {
   "cell_type": "markdown",
   "id": "f5629f6e",
   "metadata": {},
   "source": [
    "## Set Up"
   ]
  },
  {
   "cell_type": "code",
   "execution_count": 1,
   "id": "125fda7b",
   "metadata": {},
   "outputs": [
    {
     "name": "stderr",
     "output_type": "stream",
     "text": [
      "/var/folders/c_/pj7tcp6d3w15s5d8gn2j4qth0000gn/T/ipykernel_7616/4080736814.py:1: DeprecationWarning: \n",
      "Pyarrow will become a required dependency of pandas in the next major release of pandas (pandas 3.0),\n",
      "(to allow more performant data types, such as the Arrow string type, and better interoperability with other libraries)\n",
      "but was not found to be installed on your system.\n",
      "If this would cause problems for you,\n",
      "please provide us feedback at https://github.com/pandas-dev/pandas/issues/54466\n",
      "        \n",
      "  import pandas as pd\n"
     ]
    }
   ],
   "source": [
    "import pandas as pd"
   ]
  },
  {
   "cell_type": "code",
   "execution_count": 2,
   "id": "0f77d153",
   "metadata": {},
   "outputs": [],
   "source": [
    "import configparser\n",
    "config = configparser.ConfigParser()\n",
    "config.read(\"../../../env.ini\")\n",
    "data_home = config['DEFAULT']['data_home']\n",
    "output_dir = config['DEFAULT']['output_dir']"
   ]
  },
  {
   "cell_type": "markdown",
   "id": "71b77f8d",
   "metadata": {},
   "source": [
    "## Import File"
   ]
  },
  {
   "cell_type": "code",
   "execution_count": 3,
   "id": "64b5bec2",
   "metadata": {},
   "outputs": [],
   "source": [
    "src_file = f\"{data_home}/HW1/pg42324.txt\""
   ]
  },
  {
   "cell_type": "code",
   "execution_count": 4,
   "id": "8637ffe0",
   "metadata": {},
   "outputs": [],
   "source": [
    "lines = open(src_file, 'r').readlines()"
   ]
  },
  {
   "cell_type": "code",
   "execution_count": 5,
   "id": "a41de51e",
   "metadata": {},
   "outputs": [
    {
     "data": {
      "text/plain": [
       "['\\ufeffThe Project Gutenberg EBook of Frankenstein, by Mary W. Shelley\\n',\n",
       " '\\n',\n",
       " 'This eBook is for the use of anyone anywhere at no cost and with\\n',\n",
       " 'almost no restrictions whatsoever.  You may copy it, give it away or\\n',\n",
       " 're-use it under the terms of the Project Gutenberg License included\\n']"
      ]
     },
     "execution_count": 5,
     "metadata": {},
     "output_type": "execute_result"
    }
   ],
   "source": [
    "lines[:5]"
   ]
  },
  {
   "cell_type": "markdown",
   "id": "d11fb0f4",
   "metadata": {},
   "source": [
    "## Convert to Dataframe"
   ]
  },
  {
   "cell_type": "code",
   "execution_count": 6,
   "id": "376a273c",
   "metadata": {},
   "outputs": [],
   "source": [
    "text = pd.DataFrame(lines)"
   ]
  },
  {
   "cell_type": "code",
   "execution_count": 7,
   "id": "c4a6885f",
   "metadata": {},
   "outputs": [
    {
     "data": {
      "text/html": [
       "<div>\n",
       "<style scoped>\n",
       "    .dataframe tbody tr th:only-of-type {\n",
       "        vertical-align: middle;\n",
       "    }\n",
       "\n",
       "    .dataframe tbody tr th {\n",
       "        vertical-align: top;\n",
       "    }\n",
       "\n",
       "    .dataframe thead th {\n",
       "        text-align: right;\n",
       "    }\n",
       "</style>\n",
       "<table border=\"1\" class=\"dataframe\">\n",
       "  <thead>\n",
       "    <tr style=\"text-align: right;\">\n",
       "      <th></th>\n",
       "      <th>0</th>\n",
       "    </tr>\n",
       "  </thead>\n",
       "  <tbody>\n",
       "    <tr>\n",
       "      <th>0</th>\n",
       "      <td>﻿The Project Gutenberg EBook of Frankenstein, ...</td>\n",
       "    </tr>\n",
       "    <tr>\n",
       "      <th>1</th>\n",
       "      <td>\\n</td>\n",
       "    </tr>\n",
       "    <tr>\n",
       "      <th>2</th>\n",
       "      <td>This eBook is for the use of anyone anywhere a...</td>\n",
       "    </tr>\n",
       "    <tr>\n",
       "      <th>3</th>\n",
       "      <td>almost no restrictions whatsoever.  You may co...</td>\n",
       "    </tr>\n",
       "    <tr>\n",
       "      <th>4</th>\n",
       "      <td>re-use it under the terms of the Project Guten...</td>\n",
       "    </tr>\n",
       "    <tr>\n",
       "      <th>...</th>\n",
       "      <td>...</td>\n",
       "    </tr>\n",
       "    <tr>\n",
       "      <th>8023</th>\n",
       "      <td>\\n</td>\n",
       "    </tr>\n",
       "    <tr>\n",
       "      <th>8024</th>\n",
       "      <td>This Web site includes information about Proje...</td>\n",
       "    </tr>\n",
       "    <tr>\n",
       "      <th>8025</th>\n",
       "      <td>including how to make donations to the Project...</td>\n",
       "    </tr>\n",
       "    <tr>\n",
       "      <th>8026</th>\n",
       "      <td>Archive Foundation, how to help produce our ne...</td>\n",
       "    </tr>\n",
       "    <tr>\n",
       "      <th>8027</th>\n",
       "      <td>subscribe to our email newsletter to hear abou...</td>\n",
       "    </tr>\n",
       "  </tbody>\n",
       "</table>\n",
       "<p>8028 rows × 1 columns</p>\n",
       "</div>"
      ],
      "text/plain": [
       "                                                      0\n",
       "0     ﻿The Project Gutenberg EBook of Frankenstein, ...\n",
       "1                                                    \\n\n",
       "2     This eBook is for the use of anyone anywhere a...\n",
       "3     almost no restrictions whatsoever.  You may co...\n",
       "4     re-use it under the terms of the Project Guten...\n",
       "...                                                 ...\n",
       "8023                                                 \\n\n",
       "8024  This Web site includes information about Proje...\n",
       "8025  including how to make donations to the Project...\n",
       "8026  Archive Foundation, how to help produce our ne...\n",
       "8027  subscribe to our email newsletter to hear abou...\n",
       "\n",
       "[8028 rows x 1 columns]"
      ]
     },
     "execution_count": 7,
     "metadata": {},
     "output_type": "execute_result"
    }
   ],
   "source": [
    "text"
   ]
  },
  {
   "cell_type": "markdown",
   "id": "4a865219",
   "metadata": {},
   "source": [
    "## Question 1"
   ]
  },
  {
   "cell_type": "code",
   "execution_count": 8,
   "id": "8ce1e230",
   "metadata": {},
   "outputs": [],
   "source": [
    "chunk_pat = '\\n\\n'"
   ]
  },
  {
   "cell_type": "code",
   "execution_count": 9,
   "id": "e944d222",
   "metadata": {},
   "outputs": [],
   "source": [
    "chunks = open(src_file, 'r').read().split(chunk_pat)"
   ]
  },
  {
   "cell_type": "code",
   "execution_count": 10,
   "id": "459a520e",
   "metadata": {},
   "outputs": [],
   "source": [
    "text = pd.DataFrame(chunks, columns=['chunk_str'])\n",
    "text.index.name = 'chunk_id'"
   ]
  },
  {
   "cell_type": "code",
   "execution_count": 11,
   "id": "cb78d443",
   "metadata": {},
   "outputs": [],
   "source": [
    "text.chunk_str = text.chunk_str.str.replace('\\n+', ' ', regex=True).str.strip()"
   ]
  },
  {
   "cell_type": "code",
   "execution_count": 12,
   "id": "379f3b45",
   "metadata": {},
   "outputs": [
    {
     "data": {
      "text/html": [
       "<div>\n",
       "<style scoped>\n",
       "    .dataframe tbody tr th:only-of-type {\n",
       "        vertical-align: middle;\n",
       "    }\n",
       "\n",
       "    .dataframe tbody tr th {\n",
       "        vertical-align: top;\n",
       "    }\n",
       "\n",
       "    .dataframe thead th {\n",
       "        text-align: right;\n",
       "    }\n",
       "</style>\n",
       "<table border=\"1\" class=\"dataframe\">\n",
       "  <thead>\n",
       "    <tr style=\"text-align: right;\">\n",
       "      <th></th>\n",
       "      <th>chunk_str</th>\n",
       "    </tr>\n",
       "    <tr>\n",
       "      <th>chunk_id</th>\n",
       "      <th></th>\n",
       "    </tr>\n",
       "  </thead>\n",
       "  <tbody>\n",
       "    <tr>\n",
       "      <th>0</th>\n",
       "      <td>﻿The Project Gutenberg EBook of Frankenstein, ...</td>\n",
       "    </tr>\n",
       "    <tr>\n",
       "      <th>1</th>\n",
       "      <td>This eBook is for the use of anyone anywhere a...</td>\n",
       "    </tr>\n",
       "    <tr>\n",
       "      <th>2</th>\n",
       "      <td>Title: Frankenstein        or, The Modern Prom...</td>\n",
       "    </tr>\n",
       "    <tr>\n",
       "      <th>3</th>\n",
       "      <td>Author: Mary W. Shelley</td>\n",
       "    </tr>\n",
       "    <tr>\n",
       "      <th>4</th>\n",
       "      <td>Release Date: March 13, 2013 [EBook #42324]</td>\n",
       "    </tr>\n",
       "  </tbody>\n",
       "</table>\n",
       "</div>"
      ],
      "text/plain": [
       "                                                  chunk_str\n",
       "chunk_id                                                   \n",
       "0         ﻿The Project Gutenberg EBook of Frankenstein, ...\n",
       "1         This eBook is for the use of anyone anywhere a...\n",
       "2         Title: Frankenstein        or, The Modern Prom...\n",
       "3                                   Author: Mary W. Shelley\n",
       "4               Release Date: March 13, 2013 [EBook #42324]"
      ]
     },
     "execution_count": 12,
     "metadata": {},
     "output_type": "execute_result"
    }
   ],
   "source": [
    "text.head()"
   ]
  },
  {
   "cell_type": "markdown",
   "id": "b1e0e276",
   "metadata": {},
   "source": [
    "## Convert lines to tokens"
   ]
  },
  {
   "cell_type": "code",
   "execution_count": 13,
   "id": "52597d21",
   "metadata": {},
   "outputs": [],
   "source": [
    "K = text.chunk_str.str.split(expand=True).stack().to_frame('token_str')\n",
    "K.index.names = ['chunk_num','token_num']"
   ]
  },
  {
   "cell_type": "code",
   "execution_count": 14,
   "id": "90eb8c1b",
   "metadata": {},
   "outputs": [
    {
     "data": {
      "text/html": [
       "<div>\n",
       "<style scoped>\n",
       "    .dataframe tbody tr th:only-of-type {\n",
       "        vertical-align: middle;\n",
       "    }\n",
       "\n",
       "    .dataframe tbody tr th {\n",
       "        vertical-align: top;\n",
       "    }\n",
       "\n",
       "    .dataframe thead th {\n",
       "        text-align: right;\n",
       "    }\n",
       "</style>\n",
       "<table border=\"1\" class=\"dataframe\">\n",
       "  <thead>\n",
       "    <tr style=\"text-align: right;\">\n",
       "      <th></th>\n",
       "      <th></th>\n",
       "      <th>token_str</th>\n",
       "    </tr>\n",
       "    <tr>\n",
       "      <th>chunk_num</th>\n",
       "      <th>token_num</th>\n",
       "      <th></th>\n",
       "    </tr>\n",
       "  </thead>\n",
       "  <tbody>\n",
       "    <tr>\n",
       "      <th rowspan=\"5\" valign=\"top\">0</th>\n",
       "      <th>0</th>\n",
       "      <td>﻿The</td>\n",
       "    </tr>\n",
       "    <tr>\n",
       "      <th>1</th>\n",
       "      <td>Project</td>\n",
       "    </tr>\n",
       "    <tr>\n",
       "      <th>2</th>\n",
       "      <td>Gutenberg</td>\n",
       "    </tr>\n",
       "    <tr>\n",
       "      <th>3</th>\n",
       "      <td>EBook</td>\n",
       "    </tr>\n",
       "    <tr>\n",
       "      <th>4</th>\n",
       "      <td>of</td>\n",
       "    </tr>\n",
       "    <tr>\n",
       "      <th>...</th>\n",
       "      <th>...</th>\n",
       "      <td>...</td>\n",
       "    </tr>\n",
       "    <tr>\n",
       "      <th rowspan=\"5\" valign=\"top\">941</th>\n",
       "      <th>35</th>\n",
       "      <td>to</td>\n",
       "    </tr>\n",
       "    <tr>\n",
       "      <th>36</th>\n",
       "      <td>hear</td>\n",
       "    </tr>\n",
       "    <tr>\n",
       "      <th>37</th>\n",
       "      <td>about</td>\n",
       "    </tr>\n",
       "    <tr>\n",
       "      <th>38</th>\n",
       "      <td>new</td>\n",
       "    </tr>\n",
       "    <tr>\n",
       "      <th>39</th>\n",
       "      <td>eBooks.</td>\n",
       "    </tr>\n",
       "  </tbody>\n",
       "</table>\n",
       "<p>80985 rows × 1 columns</p>\n",
       "</div>"
      ],
      "text/plain": [
       "                     token_str\n",
       "chunk_num token_num           \n",
       "0         0               ﻿The\n",
       "          1            Project\n",
       "          2          Gutenberg\n",
       "          3              EBook\n",
       "          4                 of\n",
       "...                        ...\n",
       "941       35                to\n",
       "          36              hear\n",
       "          37             about\n",
       "          38               new\n",
       "          39           eBooks.\n",
       "\n",
       "[80985 rows x 1 columns]"
      ]
     },
     "execution_count": 14,
     "metadata": {},
     "output_type": "execute_result"
    }
   ],
   "source": [
    "K"
   ]
  },
  {
   "cell_type": "markdown",
   "id": "72346bc6",
   "metadata": {},
   "source": [
    "There are 80,985 tokens of the raw text."
   ]
  },
  {
   "cell_type": "markdown",
   "id": "015992a4",
   "metadata": {},
   "source": [
    "## Question 2"
   ]
  },
  {
   "cell_type": "code",
   "execution_count": 15,
   "id": "d61338f4",
   "metadata": {},
   "outputs": [],
   "source": [
    "K['term_str'] = K.token_str.str.replace(r'\\W+', '', regex=True).str.lower()"
   ]
  },
  {
   "cell_type": "code",
   "execution_count": 16,
   "id": "add8867c",
   "metadata": {},
   "outputs": [],
   "source": [
    "V = K.term_str.value_counts().to_frame('n')\n",
    "V.index.name = 'term_str'"
   ]
  },
  {
   "cell_type": "code",
   "execution_count": 17,
   "id": "e3b84527",
   "metadata": {},
   "outputs": [
    {
     "data": {
      "text/html": [
       "<div>\n",
       "<style scoped>\n",
       "    .dataframe tbody tr th:only-of-type {\n",
       "        vertical-align: middle;\n",
       "    }\n",
       "\n",
       "    .dataframe tbody tr th {\n",
       "        vertical-align: top;\n",
       "    }\n",
       "\n",
       "    .dataframe thead th {\n",
       "        text-align: right;\n",
       "    }\n",
       "</style>\n",
       "<table border=\"1\" class=\"dataframe\">\n",
       "  <thead>\n",
       "    <tr style=\"text-align: right;\">\n",
       "      <th></th>\n",
       "      <th>n</th>\n",
       "    </tr>\n",
       "    <tr>\n",
       "      <th>term_str</th>\n",
       "      <th></th>\n",
       "    </tr>\n",
       "  </thead>\n",
       "  <tbody>\n",
       "    <tr>\n",
       "      <th>the</th>\n",
       "      <td>4575</td>\n",
       "    </tr>\n",
       "    <tr>\n",
       "      <th>and</th>\n",
       "      <td>3120</td>\n",
       "    </tr>\n",
       "    <tr>\n",
       "      <th>of</th>\n",
       "      <td>2918</td>\n",
       "    </tr>\n",
       "    <tr>\n",
       "      <th>i</th>\n",
       "      <td>2918</td>\n",
       "    </tr>\n",
       "    <tr>\n",
       "      <th>to</th>\n",
       "      <td>2257</td>\n",
       "    </tr>\n",
       "    <tr>\n",
       "      <th>my</th>\n",
       "      <td>1819</td>\n",
       "    </tr>\n",
       "    <tr>\n",
       "      <th>a</th>\n",
       "      <td>1497</td>\n",
       "    </tr>\n",
       "    <tr>\n",
       "      <th>in</th>\n",
       "      <td>1232</td>\n",
       "    </tr>\n",
       "    <tr>\n",
       "      <th>was</th>\n",
       "      <td>1064</td>\n",
       "    </tr>\n",
       "    <tr>\n",
       "      <th>that</th>\n",
       "      <td>1060</td>\n",
       "    </tr>\n",
       "  </tbody>\n",
       "</table>\n",
       "</div>"
      ],
      "text/plain": [
       "             n\n",
       "term_str      \n",
       "the       4575\n",
       "and       3120\n",
       "of        2918\n",
       "i         2918\n",
       "to        2257\n",
       "my        1819\n",
       "a         1497\n",
       "in        1232\n",
       "was       1064\n",
       "that      1060"
      ]
     },
     "execution_count": 17,
     "metadata": {},
     "output_type": "execute_result"
    }
   ],
   "source": [
    "V.head(10)"
   ]
  },
  {
   "cell_type": "markdown",
   "id": "2e483adc",
   "metadata": {},
   "source": [
    "\"I\" is the most prominent pronoun."
   ]
  },
  {
   "cell_type": "markdown",
   "id": "af7b969d",
   "metadata": {},
   "source": [
    "## Question 3"
   ]
  },
  {
   "cell_type": "code",
   "execution_count": 18,
   "id": "32e088b6",
   "metadata": {},
   "outputs": [],
   "source": [
    "src_file = f\"{data_home}/gutenberg/pg105.txt\"\n",
    "chunks = open(src_file, 'r').read().split(chunk_pat)"
   ]
  },
  {
   "cell_type": "code",
   "execution_count": 19,
   "id": "ea0309f6",
   "metadata": {},
   "outputs": [],
   "source": [
    "text = pd.DataFrame(chunks, columns=['chunk_str'])\n",
    "text.index.name = 'chunk_id'\n",
    "text.chunk_str = text.chunk_str.str.replace('\\n+', ' ', regex=True).str.strip()"
   ]
  },
  {
   "cell_type": "code",
   "execution_count": 20,
   "id": "3224ccae",
   "metadata": {},
   "outputs": [],
   "source": [
    "K = text.chunk_str.str.split(expand=True).stack().to_frame('token_str')\n",
    "K.index.names = ['chunk_num','token_num']"
   ]
  },
  {
   "cell_type": "code",
   "execution_count": 21,
   "id": "99cfa6d4",
   "metadata": {},
   "outputs": [],
   "source": [
    "K['term_str'] = K.token_str.str.replace(r'\\W+', '', regex=True).str.lower()"
   ]
  },
  {
   "cell_type": "code",
   "execution_count": 22,
   "id": "323f3d3d",
   "metadata": {},
   "outputs": [],
   "source": [
    "V = K.term_str.value_counts().to_frame('n')\n",
    "V.index.name = 'term_str'"
   ]
  },
  {
   "cell_type": "code",
   "execution_count": 23,
   "id": "30f96dee",
   "metadata": {},
   "outputs": [
    {
     "data": {
      "text/html": [
       "<div>\n",
       "<style scoped>\n",
       "    .dataframe tbody tr th:only-of-type {\n",
       "        vertical-align: middle;\n",
       "    }\n",
       "\n",
       "    .dataframe tbody tr th {\n",
       "        vertical-align: top;\n",
       "    }\n",
       "\n",
       "    .dataframe thead th {\n",
       "        text-align: right;\n",
       "    }\n",
       "</style>\n",
       "<table border=\"1\" class=\"dataframe\">\n",
       "  <thead>\n",
       "    <tr style=\"text-align: right;\">\n",
       "      <th></th>\n",
       "      <th>n</th>\n",
       "    </tr>\n",
       "    <tr>\n",
       "      <th>term_str</th>\n",
       "      <th></th>\n",
       "    </tr>\n",
       "  </thead>\n",
       "  <tbody>\n",
       "    <tr>\n",
       "      <th>the</th>\n",
       "      <td>3501</td>\n",
       "    </tr>\n",
       "    <tr>\n",
       "      <th>to</th>\n",
       "      <td>2862</td>\n",
       "    </tr>\n",
       "    <tr>\n",
       "      <th>and</th>\n",
       "      <td>2851</td>\n",
       "    </tr>\n",
       "    <tr>\n",
       "      <th>of</th>\n",
       "      <td>2684</td>\n",
       "    </tr>\n",
       "    <tr>\n",
       "      <th>a</th>\n",
       "      <td>1648</td>\n",
       "    </tr>\n",
       "    <tr>\n",
       "      <th>in</th>\n",
       "      <td>1439</td>\n",
       "    </tr>\n",
       "    <tr>\n",
       "      <th>was</th>\n",
       "      <td>1336</td>\n",
       "    </tr>\n",
       "    <tr>\n",
       "      <th>her</th>\n",
       "      <td>1202</td>\n",
       "    </tr>\n",
       "    <tr>\n",
       "      <th>had</th>\n",
       "      <td>1187</td>\n",
       "    </tr>\n",
       "    <tr>\n",
       "      <th>she</th>\n",
       "      <td>1143</td>\n",
       "    </tr>\n",
       "  </tbody>\n",
       "</table>\n",
       "</div>"
      ],
      "text/plain": [
       "             n\n",
       "term_str      \n",
       "the       3501\n",
       "to        2862\n",
       "and       2851\n",
       "of        2684\n",
       "a         1648\n",
       "in        1439\n",
       "was       1336\n",
       "her       1202\n",
       "had       1187\n",
       "she       1143"
      ]
     },
     "execution_count": 23,
     "metadata": {},
     "output_type": "execute_result"
    }
   ],
   "source": [
    "V.head(10)"
   ]
  },
  {
   "cell_type": "markdown",
   "id": "dcf274bd",
   "metadata": {},
   "source": [
    "\"She\" is the most prominent subject pronoun of the Jane Austen novel."
   ]
  },
  {
   "cell_type": "markdown",
   "id": "642eda04",
   "metadata": {},
   "source": [
    "## Question 4"
   ]
  },
  {
   "cell_type": "markdown",
   "id": "c0b3b9cb",
   "metadata": {},
   "source": [
    "Based on my level of knowledge of the two authors and their work, Frankenstein is a story centrally focused on a \"mad scientist\" and his creation, while Jane Austen's work tends to revolve around the lives of young aristocratic women in 19th century British society. It seems fairly intuitive that, within this context, \"she\" will feature prominently within *Persuasion* by Jane Austen, since the novel follows the lives of several women, while *Frankenstein*, which is narrated in first-person, is obviously going to rely upon \"I\" often throughout the story. "
   ]
  }
 ],
 "metadata": {
  "kernelspec": {
   "display_name": "Python 3 (ipykernel)",
   "language": "python",
   "name": "python3"
  },
  "language_info": {
   "codemirror_mode": {
    "name": "ipython",
    "version": 3
   },
   "file_extension": ".py",
   "mimetype": "text/x-python",
   "name": "python",
   "nbconvert_exporter": "python",
   "pygments_lexer": "ipython3",
   "version": "3.11.7"
  }
 },
 "nbformat": 4,
 "nbformat_minor": 5
}
